{
 "cells": [
  {
   "cell_type": "code",
   "execution_count": 2,
   "id": "e7953410",
   "metadata": {},
   "outputs": [],
   "source": [
    "import pandas as pd\n",
    "import numpy as np\n",
    "from scipy import stats\n",
    "from pandas import DataFrame,Series"
   ]
  },
  {
   "cell_type": "markdown",
   "id": "c893ae3b",
   "metadata": {},
   "source": [
    "# SET-1 "
   ]
  },
  {
   "cell_type": "markdown",
   "id": "03629e29",
   "metadata": {},
   "source": [
    "# Q1"
   ]
  },
  {
   "cell_type": "code",
   "execution_count": 7,
   "id": "75f3991a",
   "metadata": {},
   "outputs": [
    {
     "data": {
      "text/html": [
       "<div>\n",
       "<style scoped>\n",
       "    .dataframe tbody tr th:only-of-type {\n",
       "        vertical-align: middle;\n",
       "    }\n",
       "\n",
       "    .dataframe tbody tr th {\n",
       "        vertical-align: top;\n",
       "    }\n",
       "\n",
       "    .dataframe thead th {\n",
       "        text-align: right;\n",
       "    }\n",
       "</style>\n",
       "<table border=\"1\" class=\"dataframe\">\n",
       "  <thead>\n",
       "    <tr style=\"text-align: right;\">\n",
       "      <th></th>\n",
       "      <th>vals</th>\n",
       "    </tr>\n",
       "  </thead>\n",
       "  <tbody>\n",
       "    <tr>\n",
       "      <th>0</th>\n",
       "      <td>24.23</td>\n",
       "    </tr>\n",
       "    <tr>\n",
       "      <th>1</th>\n",
       "      <td>25.53</td>\n",
       "    </tr>\n",
       "    <tr>\n",
       "      <th>2</th>\n",
       "      <td>25.41</td>\n",
       "    </tr>\n",
       "    <tr>\n",
       "      <th>3</th>\n",
       "      <td>24.14</td>\n",
       "    </tr>\n",
       "    <tr>\n",
       "      <th>4</th>\n",
       "      <td>29.62</td>\n",
       "    </tr>\n",
       "    <tr>\n",
       "      <th>5</th>\n",
       "      <td>28.25</td>\n",
       "    </tr>\n",
       "    <tr>\n",
       "      <th>6</th>\n",
       "      <td>25.81</td>\n",
       "    </tr>\n",
       "    <tr>\n",
       "      <th>7</th>\n",
       "      <td>24.39</td>\n",
       "    </tr>\n",
       "    <tr>\n",
       "      <th>8</th>\n",
       "      <td>40.26</td>\n",
       "    </tr>\n",
       "    <tr>\n",
       "      <th>9</th>\n",
       "      <td>32.95</td>\n",
       "    </tr>\n",
       "    <tr>\n",
       "      <th>10</th>\n",
       "      <td>91.36</td>\n",
       "    </tr>\n",
       "    <tr>\n",
       "      <th>11</th>\n",
       "      <td>25.99</td>\n",
       "    </tr>\n",
       "    <tr>\n",
       "      <th>12</th>\n",
       "      <td>39.42</td>\n",
       "    </tr>\n",
       "    <tr>\n",
       "      <th>13</th>\n",
       "      <td>26.71</td>\n",
       "    </tr>\n",
       "    <tr>\n",
       "      <th>14</th>\n",
       "      <td>35.00</td>\n",
       "    </tr>\n",
       "  </tbody>\n",
       "</table>\n",
       "</div>"
      ],
      "text/plain": [
       "     vals\n",
       "0   24.23\n",
       "1   25.53\n",
       "2   25.41\n",
       "3   24.14\n",
       "4   29.62\n",
       "5   28.25\n",
       "6   25.81\n",
       "7   24.39\n",
       "8   40.26\n",
       "9   32.95\n",
       "10  91.36\n",
       "11  25.99\n",
       "12  39.42\n",
       "13  26.71\n",
       "14  35.00"
      ]
     },
     "execution_count": 7,
     "metadata": {},
     "output_type": "execute_result"
    }
   ],
   "source": [
    "Q1 = pd.DataFrame([24.23,\n",
    "25.53,\n",
    "25.41,\n",
    "24.14,\n",
    "29.62,\n",
    "28.25,\n",
    "25.81,\n",
    "24.39,\n",
    "40.26,\n",
    "32.95,\n",
    "91.36,\n",
    "25.99,\n",
    "39.42,\n",
    "26.71,\n",
    "35.00], columns=['vals'])\n",
    "Q1"
   ]
  },
  {
   "cell_type": "code",
   "execution_count": 8,
   "id": "2ff44405",
   "metadata": {},
   "outputs": [
    {
     "data": {
      "text/plain": [
       "vals    33.271333\n",
       "dtype: float64"
      ]
     },
     "execution_count": 8,
     "metadata": {},
     "output_type": "execute_result"
    }
   ],
   "source": [
    "Q1.mean()"
   ]
  },
  {
   "cell_type": "code",
   "execution_count": 9,
   "id": "0b4ac90a",
   "metadata": {},
   "outputs": [
    {
     "data": {
      "text/plain": [
       "vals    287.146612\n",
       "dtype: float64"
      ]
     },
     "execution_count": 9,
     "metadata": {},
     "output_type": "execute_result"
    }
   ],
   "source": [
    "Q1.var()"
   ]
  },
  {
   "cell_type": "code",
   "execution_count": 10,
   "id": "a05d742d",
   "metadata": {},
   "outputs": [
    {
     "data": {
      "text/plain": [
       "vals    16.945401\n",
       "dtype: float64"
      ]
     },
     "execution_count": 10,
     "metadata": {},
     "output_type": "execute_result"
    }
   ],
   "source": [
    "Q1.std()"
   ]
  },
  {
   "cell_type": "markdown",
   "id": "0f6c1642",
   "metadata": {},
   "source": [
    "# SET-2"
   ]
  },
  {
   "cell_type": "markdown",
   "id": "92377abf",
   "metadata": {},
   "source": [
    "# Q1"
   ]
  },
  {
   "cell_type": "code",
   "execution_count": 11,
   "id": "44cf62b5",
   "metadata": {},
   "outputs": [
    {
     "data": {
      "text/plain": [
       "0.26598552904870054"
      ]
     },
     "execution_count": 11,
     "metadata": {},
     "output_type": "execute_result"
    }
   ],
   "source": [
    "1-stats.norm.cdf(60,55,8)"
   ]
  },
  {
   "cell_type": "markdown",
   "id": "f1be6fdf",
   "metadata": {},
   "source": [
    "# Q2a"
   ]
  },
  {
   "cell_type": "code",
   "execution_count": 4,
   "id": "14f4b2d7",
   "metadata": {},
   "outputs": [
    {
     "data": {
      "text/plain": [
       "0.5"
      ]
     },
     "execution_count": 4,
     "metadata": {},
     "output_type": "execute_result"
    }
   ],
   "source": [
    "mean = 38\n",
    "std1 = 6 \n",
    "q2_lessthan_38 = stats.norm.cdf(38, loc = mean, scale = std1)\n",
    "q2_lessthan_38"
   ]
  },
  {
   "cell_type": "code",
   "execution_count": 5,
   "id": "d4e0bcde",
   "metadata": {},
   "outputs": [
    {
     "data": {
      "text/plain": [
       "0.8413447460685429"
      ]
     },
     "execution_count": 5,
     "metadata": {},
     "output_type": "execute_result"
    }
   ],
   "source": [
    "q2_less_than_44 = stats.norm.cdf(44, loc = mean, scale = std1)\n",
    "q2_less_than_44"
   ]
  },
  {
   "cell_type": "code",
   "execution_count": 7,
   "id": "a4029f67",
   "metadata": {},
   "outputs": [
    {
     "data": {
      "text/plain": [
       "0.3413447460685429"
      ]
     },
     "execution_count": 7,
     "metadata": {},
     "output_type": "execute_result"
    }
   ],
   "source": [
    "q2_betweeen_38_and_44 = q2_less_than_44 - q2_lessthan_38 \n",
    "q2_betweeen_38_and_44"
   ]
  },
  {
   "cell_type": "code",
   "execution_count": 14,
   "id": "85d38263",
   "metadata": {},
   "outputs": [
    {
     "name": "stdout",
     "output_type": "stream",
     "text": [
      "The probability of employee age between 38 and 44 is 34.13 %\n"
     ]
    }
   ],
   "source": [
    "print('The probability of employee age between 38 and 44 is',np.round(q2_betweeen_38_and_44*100,2),'%')"
   ]
  },
  {
   "cell_type": "code",
   "execution_count": 15,
   "id": "dd73fe7c",
   "metadata": {},
   "outputs": [
    {
     "data": {
      "text/plain": [
       "0.15865525393145707"
      ]
     },
     "execution_count": 15,
     "metadata": {},
     "output_type": "execute_result"
    }
   ],
   "source": [
    "q2_morethan_44 = 1-stats.norm.cdf(44, loc = mean, scale = std1)\n",
    "q2_morethan_44"
   ]
  },
  {
   "cell_type": "code",
   "execution_count": 16,
   "id": "0ece1d14",
   "metadata": {},
   "outputs": [
    {
     "name": "stdout",
     "output_type": "stream",
     "text": [
      "The probability of employee age more than 44 is 15.87 %\n"
     ]
    }
   ],
   "source": [
    " print('The probability of employee age more than 44 is',np.round(q2_morethan_44*100,2),'%')"
   ]
  },
  {
   "cell_type": "code",
   "execution_count": 17,
   "id": "5317fd82",
   "metadata": {},
   "outputs": [
    {
     "name": "stdout",
     "output_type": "stream",
     "text": [
      "Answer: False\n"
     ]
    }
   ],
   "source": [
    "true_or_false = (q2_morethan_44 > q2_betweeen_38_and_44)\n",
    "print('Answer:',true_or_false)"
   ]
  },
  {
   "cell_type": "markdown",
   "id": "04ba35c7",
   "metadata": {},
   "source": [
    "# Q2b"
   ]
  },
  {
   "cell_type": "code",
   "execution_count": 28,
   "id": "274133bb",
   "metadata": {},
   "outputs": [
    {
     "name": "stdout",
     "output_type": "stream",
     "text": [
      "A training program for employees under the age of 30 at the center would be expected to attract about 36.0 employees\n"
     ]
    }
   ],
   "source": [
    "mean=38\n",
    "std1=6\n",
    "q2b = stats.norm.cdf(30, loc = mean, scale = std1)*100\n",
    "print('A training program for employees under the age of 30 at the center would be expected to attract about',np.round((q2b*400)/100,0),'employees')"
   ]
  },
  {
   "cell_type": "markdown",
   "id": "33b3e890",
   "metadata": {},
   "source": [
    "# Q4"
   ]
  },
  {
   "cell_type": "code",
   "execution_count": 30,
   "id": "a598384f",
   "metadata": {},
   "outputs": [
    {
     "data": {
      "text/plain": [
       "(48.48341392902199, 151.516586070978)"
      ]
     },
     "execution_count": 30,
     "metadata": {},
     "output_type": "execute_result"
    }
   ],
   "source": [
    "stats.norm.interval(0.99, loc = 100, scale = 20)"
   ]
  },
  {
   "cell_type": "markdown",
   "id": "0c5510d4",
   "metadata": {},
   "source": [
    "# SET-3"
   ]
  },
  {
   "cell_type": "markdown",
   "id": "15156822",
   "metadata": {},
   "source": [
    "# Q5"
   ]
  },
  {
   "cell_type": "code",
   "execution_count": 31,
   "id": "971f4e01",
   "metadata": {},
   "outputs": [
    {
     "data": {
      "text/plain": [
       "0.20582313410777142"
      ]
     },
     "execution_count": 31,
     "metadata": {},
     "output_type": "execute_result"
    }
   ],
   "source": [
    "p_hat = .046\n",
    "p = .05\n",
    "n = 2000\n",
    "\n",
    "# z_score = p_hat-p/(p(1-p)/n)**0.5\n",
    "z_score = (p_hat-p)/(np.sqrt((p*(1-p))/n))\n",
    "z_score\n",
    "\n",
    "p_value = stats.norm.sf(0.821)\n",
    "p_value"
   ]
  },
  {
   "cell_type": "markdown",
   "id": "51a5e7d0",
   "metadata": {},
   "source": [
    "# SET-4"
   ]
  },
  {
   "cell_type": "code",
   "execution_count": null,
   "id": "8584863c",
   "metadata": {},
   "outputs": [],
   "source": []
  },
  {
   "cell_type": "code",
   "execution_count": null,
   "id": "671b82f3",
   "metadata": {},
   "outputs": [],
   "source": []
  },
  {
   "cell_type": "code",
   "execution_count": null,
   "id": "0d90ccf5",
   "metadata": {},
   "outputs": [],
   "source": []
  },
  {
   "cell_type": "code",
   "execution_count": null,
   "id": "5df4b07a",
   "metadata": {},
   "outputs": [],
   "source": []
  },
  {
   "cell_type": "code",
   "execution_count": null,
   "id": "26abde4c",
   "metadata": {},
   "outputs": [],
   "source": []
  },
  {
   "cell_type": "code",
   "execution_count": null,
   "id": "704f485f",
   "metadata": {},
   "outputs": [],
   "source": []
  },
  {
   "cell_type": "code",
   "execution_count": null,
   "id": "606506e4",
   "metadata": {},
   "outputs": [],
   "source": []
  },
  {
   "cell_type": "code",
   "execution_count": null,
   "id": "3ee050b4",
   "metadata": {},
   "outputs": [],
   "source": []
  },
  {
   "cell_type": "code",
   "execution_count": null,
   "id": "5dccc8c5",
   "metadata": {},
   "outputs": [],
   "source": []
  },
  {
   "cell_type": "code",
   "execution_count": null,
   "id": "a0b7306b",
   "metadata": {},
   "outputs": [],
   "source": []
  },
  {
   "cell_type": "code",
   "execution_count": null,
   "id": "6db4b55b",
   "metadata": {},
   "outputs": [],
   "source": []
  },
  {
   "cell_type": "code",
   "execution_count": null,
   "id": "4c40362c",
   "metadata": {},
   "outputs": [],
   "source": []
  },
  {
   "cell_type": "code",
   "execution_count": null,
   "id": "00a8fbac",
   "metadata": {},
   "outputs": [],
   "source": []
  },
  {
   "cell_type": "code",
   "execution_count": null,
   "id": "3fc2cf35",
   "metadata": {},
   "outputs": [],
   "source": []
  },
  {
   "cell_type": "code",
   "execution_count": null,
   "id": "98ca5329",
   "metadata": {},
   "outputs": [],
   "source": []
  },
  {
   "cell_type": "code",
   "execution_count": null,
   "id": "e6767ae8",
   "metadata": {},
   "outputs": [],
   "source": []
  },
  {
   "cell_type": "code",
   "execution_count": null,
   "id": "8a7edb84",
   "metadata": {},
   "outputs": [],
   "source": []
  },
  {
   "cell_type": "code",
   "execution_count": null,
   "id": "5821b246",
   "metadata": {},
   "outputs": [],
   "source": []
  },
  {
   "cell_type": "code",
   "execution_count": null,
   "id": "73e01b6e",
   "metadata": {},
   "outputs": [],
   "source": []
  },
  {
   "cell_type": "code",
   "execution_count": null,
   "id": "b0d2a410",
   "metadata": {},
   "outputs": [],
   "source": []
  },
  {
   "cell_type": "code",
   "execution_count": null,
   "id": "c578b0d7",
   "metadata": {},
   "outputs": [],
   "source": []
  },
  {
   "cell_type": "code",
   "execution_count": null,
   "id": "eb345047",
   "metadata": {},
   "outputs": [],
   "source": []
  },
  {
   "cell_type": "code",
   "execution_count": null,
   "id": "94d6dade",
   "metadata": {},
   "outputs": [],
   "source": []
  },
  {
   "cell_type": "code",
   "execution_count": null,
   "id": "c4593748",
   "metadata": {},
   "outputs": [],
   "source": []
  },
  {
   "cell_type": "code",
   "execution_count": null,
   "id": "bb8a825d",
   "metadata": {},
   "outputs": [],
   "source": []
  }
 ],
 "metadata": {
  "kernelspec": {
   "display_name": "Python 3 (ipykernel)",
   "language": "python",
   "name": "python3"
  },
  "language_info": {
   "codemirror_mode": {
    "name": "ipython",
    "version": 3
   },
   "file_extension": ".py",
   "mimetype": "text/x-python",
   "name": "python",
   "nbconvert_exporter": "python",
   "pygments_lexer": "ipython3",
   "version": "3.9.7"
  }
 },
 "nbformat": 4,
 "nbformat_minor": 5
}
